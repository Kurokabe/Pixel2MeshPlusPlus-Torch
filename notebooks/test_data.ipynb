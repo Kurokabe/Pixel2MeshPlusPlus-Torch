{
 "cells": [
  {
   "cell_type": "code",
   "execution_count": 1,
   "metadata": {},
   "outputs": [],
   "source": [
    "%load_ext autoreload\n",
    "%autoreload 2"
   ]
  },
  {
   "cell_type": "code",
   "execution_count": 2,
   "metadata": {},
   "outputs": [],
   "source": [
    "import torch\n",
    "from p2mpp.data.shapenet import ShapeNet"
   ]
  },
  {
   "cell_type": "code",
   "execution_count": 3,
   "metadata": {},
   "outputs": [],
   "source": [
    "dataset = ShapeNet(\n",
    "    file_list=r\"C:\\ORamaVR\\Python\\Pixel2MeshPlusPlusTorch\\data\\train_list.txt\",\n",
    "    data_root=r\"C:\\ORamaVR\\Datasets\\p2mppdata\\p2mppdata\\train\",\n",
    "    image_root=r\"C:\\ORamaVR\\Datasets\\ShapeNetRendering\",\n",
    ")"
   ]
  },
  {
   "cell_type": "code",
   "execution_count": 4,
   "metadata": {},
   "outputs": [],
   "source": [
    "imgs, imgs_orig, points, normals, poses, filename = dataset[0].values()"
   ]
  },
  {
   "cell_type": "code",
   "execution_count": 5,
   "metadata": {},
   "outputs": [],
   "source": [
    "from p2mpp.data.datamodule import DataModule"
   ]
  },
  {
   "cell_type": "code",
   "execution_count": 6,
   "metadata": {},
   "outputs": [],
   "source": [
    "datamodule = DataModule(train_file_list=r\"C:\\ORamaVR\\Python\\Pixel2MeshPlusPlusTorch\\data\\train_list.txt\",\n",
    "                        test_file_list=r\"C:\\ORamaVR\\Python\\Pixel2MeshPlusPlusTorch\\data\\test_list.txt\",\n",
    "                        data_root=r\"C:\\ORamaVR\\Datasets\\p2mppdata\\p2mppdata\",\n",
    "                        image_root=r\"C:\\ORamaVR\\Datasets\\ShapeNetRendering\",\n",
    "                        batch_size=8,\n",
    "                        num_workers=1,\n",
    "                        )\n"
   ]
  },
  {
   "cell_type": "code",
   "execution_count": 7,
   "metadata": {},
   "outputs": [],
   "source": [
    "for batch in datamodule.train_dataloader():\n",
    "    break"
   ]
  },
  {
   "cell_type": "code",
   "execution_count": 8,
   "metadata": {},
   "outputs": [],
   "source": [
    "from p2mpp.models.p2m import P2MModel, BaseMeshConfig"
   ]
  },
  {
   "cell_type": "code",
   "execution_count": 9,
   "metadata": {},
   "outputs": [],
   "source": [
    "basemeshconfig = BaseMeshConfig(\"ellipsoid\", mesh_pose=(0.0, 0.0, 0.0))"
   ]
  },
  {
   "cell_type": "code",
   "execution_count": 10,
   "metadata": {},
   "outputs": [
    {
     "name": "stderr",
     "output_type": "stream",
     "text": [
      "c:\\oramavr\\python\\pixel2meshplusplustorch\\p2mpp\\models\\mesh\\ellipsoid.py:21: UserWarning: torch.sparse.SparseTensor(indices, values, shape, *, device=) is deprecated.  Please use torch.sparse_coo_tensor(indices, values, shape, dtype=, device=). (Triggered internally at C:\\actions-runner\\_work\\pytorch\\pytorch\\builder\\windows\\pytorch\\torch\\csrc\\utils\\tensor_new.cpp:607.)\n",
      "  return torch.sparse.FloatTensor(i, v, shape)\n"
     ]
    }
   ],
   "source": [
    "model = P2MModel(\n",
    "    hidden_dim=192,\n",
    "    last_hidden_dim=192,\n",
    "    coord_dim=3,\n",
    "    backbone=\"vgg16\",\n",
    "    gconv_activation=True,\n",
    "    z_threshold=0,\n",
    "    align_with_tensorflow=True,\n",
    "    camera_c=(111.5, 111.5),\n",
    "    camera_f=(248.0, 248.0),\n",
    "    base_mesh_config=basemeshconfig\n",
    ")"
   ]
  },
  {
   "cell_type": "code",
   "execution_count": 11,
   "metadata": {},
   "outputs": [],
   "source": [
    "images = batch[\"images\"]\n",
    "poses = batch[\"poses\"]"
   ]
  },
  {
   "cell_type": "code",
   "execution_count": 15,
   "metadata": {},
   "outputs": [],
   "source": [
    "model = model.cuda()\n",
    "images = images.cuda()\n",
    "poses = poses.cuda()"
   ]
  },
  {
   "cell_type": "code",
   "execution_count": 16,
   "metadata": {},
   "outputs": [],
   "source": [
    "output = model(images, poses)"
   ]
  },
  {
   "cell_type": "code",
   "execution_count": 60,
   "metadata": {},
   "outputs": [
    {
     "data": {
      "image/png": "[encoded data removed]",
      "text/plain": [
       "<Figure size 640x480 with 1 Axes>"
      ]
     },
     "metadata": {},
     "output_type": "display_data"
    }
   ],
   "source": [
    "import matplotlib.pyplot as plt\n",
    "import torchvision.utils as vutils\n",
    "\n",
    "# get the reconst tensor from the output dictionary\n",
    "input_tensor = batch[\"images\"].cpu()\n",
    "reconst_tensor = output[\"reconst\"].cpu()\n",
    "\n",
    "t = torch.cat([input_tensor, reconst_tensor], dim=1)\n",
    "batch_size, n_views, channel, height, width = t.shape\n",
    "t = t.reshape(batch_size * n_views, channel, height, width)\n",
    "\n",
    "# create a grid of images\n",
    "grid_img = vutils.make_grid(t, nrow=3, normalize=True)\n",
    "\n",
    "# display the grid\n",
    "plt.imshow(grid_img.permute(1, 2, 0))\n",
    "plt.axis('off')\n",
    "plt.show()\n"
   ]
  },
  {
   "cell_type": "code",
   "execution_count": 61,
   "metadata": {},
   "outputs": [
    {
     "data": {
      "text/plain": [
       "torch.Size([3, 3618, 680])"
      ]
     },
     "execution_count": 61,
     "metadata": {},
     "output_type": "execute_result"
    }
   ],
   "source": [
    "grid_img.shape"
   ]
  },
  {
   "cell_type": "code",
   "execution_count": 58,
   "metadata": {},
   "outputs": [
    {
     "data": {
      "text/plain": [
       "torch.Size([8, 6, 3, 224, 224])"
      ]
     },
     "execution_count": 58,
     "metadata": {},
     "output_type": "execute_result"
    }
   ],
   "source": [
    "torch.cat([batch[\"images\"], reconst_tensor], dim=1).shape"
   ]
  },
  {
   "cell_type": "code",
   "execution_count": 21,
   "metadata": {},
   "outputs": [
    {
     "name": "stderr",
     "output_type": "stream",
     "text": [
      "c:\\Users\\Farid\\anaconda3\\envs\\p2mpptorch\\lib\\site-packages\\neural_renderer_pytorch-1.1.3-py3.9-win-amd64.egg\\neural_renderer\\renderer.py:41: UserWarning: The torch.cuda.*DtypeTensor constructors are no longer recommended. It's best to use methods such as torch.tensor(data, dtype=*, device='cuda') to create tensors. (Triggered internally at C:\\actions-runner\\_work\\pytorch\\pytorch\\builder\\windows\\pytorch\\torch\\csrc\\tensor\\python_tensor.cpp:85.)\n",
      "  self.dist_coeffs = torch.cuda.FloatTensor([[0., 0., 0., 0., 0.]])\n"
     ]
    }
   ],
   "source": [
    "from p2mpp.utils.vis.renderer import MeshRenderer\n",
    "renderer = MeshRenderer(camera_f=(248., 248.), camera_c=(111.5, 1115.), mesh_pos=(0., 0., 0.))"
   ]
  },
  {
   "cell_type": "code",
   "execution_count": 22,
   "metadata": {},
   "outputs": [],
   "source": [
    "from p2mpp.models.mesh.ellipsoid import Ellipsoid\n",
    "ellipsoid = Ellipsoid(mesh_pos=(0., 0., 0.))"
   ]
  },
  {
   "cell_type": "code",
   "execution_count": 23,
   "metadata": {},
   "outputs": [],
   "source": [
    "from p2mpp.models.losses.p2m import P2MLoss\n",
    "from p2mpp.configs import LossConfig\n",
    "p2mloss = P2MLoss(loss_config=LossConfig(), ellipsoid=ellipsoid)"
   ]
  },
  {
   "cell_type": "code",
   "execution_count": 34,
   "metadata": {},
   "outputs": [],
   "source": [
    "batch_cuda = {\"images\": batch[\"images\"].cuda(), \"poses\": batch[\"poses\"].cuda(), \"points\": batch[\"points\"].cuda(), \"normals\": batch[\"normals\"].cuda(), \"filename\": batch[\"filename\"], \"points_orig\": batch[\"points_orig\"], \"normals_orig\": batch[\"normals_orig\"]}"
   ]
  },
  {
   "cell_type": "code",
   "execution_count": 36,
   "metadata": {},
   "outputs": [],
   "source": [
    "p2mloss = p2mloss.cuda()"
   ]
  },
  {
   "cell_type": "code",
   "execution_count": 37,
   "metadata": {},
   "outputs": [],
   "source": [
    "loss, loss_summary = p2mloss(output, batch_cuda)"
   ]
  },
  {
   "cell_type": "code",
   "execution_count": 48,
   "metadata": {},
   "outputs": [],
   "source": [
    "render_mesh = renderer.p2m_batch_visualize(batch, output, ellipsoid.faces)"
   ]
  },
  {
   "cell_type": "code",
   "execution_count": 50,
   "metadata": {},
   "outputs": [
    {
     "data": {
      "text/plain": [
       "torch.Size([3, 2688, 896])"
      ]
     },
     "execution_count": 50,
     "metadata": {},
     "output_type": "execute_result"
    }
   ],
   "source": [
    "render_mesh.shape"
   ]
  },
  {
   "cell_type": "code",
   "execution_count": 53,
   "metadata": {},
   "outputs": [
    {
     "data": {
      "image/png": "[encoded data removed]",
      "text/plain": [
       "<Figure size 640x480 with 1 Axes>"
      ]
     },
     "metadata": {},
     "output_type": "display_data"
    }
   ],
   "source": [
    "import matplotlib.pyplot as plt\n",
    "\n",
    "plt.imshow(render_mesh.permute(1, 2, 0))\n",
    "plt.axis('off')\n",
    "plt.show()\n"
   ]
  },
  {
   "cell_type": "code",
   "execution_count": null,
   "metadata": {},
   "outputs": [],
   "source": []
  }
 ],
 "metadata": {
  "kernelspec": {
   "display_name": "p2mpptorch",
   "language": "python",
   "name": "python3"
  },
  "language_info": {
   "codemirror_mode": {
    "name": "ipython",
    "version": 3
   },
   "file_extension": ".py",
   "mimetype": "text/x-python",
   "name": "python",
   "nbconvert_exporter": "python",
   "pygments_lexer": "ipython3",
   "version": "3.9.18"
  }
 },
 "nbformat": 4,
 "nbformat_minor": 2
}
