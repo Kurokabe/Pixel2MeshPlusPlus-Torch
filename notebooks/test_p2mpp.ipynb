{
 "cells": [
  {
   "cell_type": "code",
   "execution_count": 15,
   "metadata": {},
   "outputs": [
    {
     "name": "stdout",
     "output_type": "stream",
     "text": [
      "The autoreload extension is already loaded. To reload it, use:\n",
      "  %reload_ext autoreload\n"
     ]
    }
   ],
   "source": [
    "%load_ext autoreload\n",
    "%autoreload 2"
   ]
  },
  {
   "cell_type": "code",
   "execution_count": 16,
   "metadata": {},
   "outputs": [],
   "source": [
    "import numpy as np\n",
    "import pickle\n",
    "import torch\n",
    "from p2mpp.models.lightning_module_p2mpp import LightningModuleP2MPP\n",
    "from p2mpp.configs.config import NetworkConfig, P2MPPConfig"
   ]
  },
  {
   "cell_type": "code",
   "execution_count": 17,
   "metadata": {},
   "outputs": [],
   "source": [
    "vertices = torch.rand(1, 2466, 3)\n",
    "images = torch.rand(1, 3, 3, 224, 224)\n",
    "poses = torch.rand(1, 3, 5)"
   ]
  },
  {
   "cell_type": "code",
   "execution_count": 21,
   "metadata": {},
   "outputs": [],
   "source": [
    "model = LightningModuleP2MPP(\n",
    "    p2m_ckpt_path=r\"C:\\ORamaVR\\Python\\Pixel2MeshPlusPlusTorch\\lightning_logs\\version_5\\checkpoints\\epoch=756-step=66134.ckpt\",\n",
    "    p2m_config=NetworkConfig(\n",
    "        hidden_dim=256,\n",
    "        last_hidden_dim=128,\n",
    "        coord_dim=3,\n",
    "        backbone=\"vgg16\",\n",
    "        gconv_activation=True,\n",
    "        z_threshold=0,\n",
    "        align_with_tensorflow=True,\n",
    "        camera_f=[250, 250],\n",
    "        camera_c=[112, 112],\n",
    "    ),\n",
    "    p2mpp_config=P2MPPConfig(\n",
    "        hidden_dim=192,\n",
    "        align_with_tensorflow=True,\n",
    "        z_threshold=0.0,\n",
    "        camera_f=[250, 250],\n",
    "        camera_c=[112, 112],\n",
    "        backbone=\"vgg16\",\n",
    "        # nn_encoder_ckpt_path=\n",
    "    ),\n",
    ")"
   ]
  },
  {
   "cell_type": "code",
   "execution_count": 1,
   "metadata": {},
   "outputs": [],
   "source": [
    "from p2mpp.models.mesh.icosahedron import Icosahedron"
   ]
  },
  {
   "cell_type": "code",
   "execution_count": 4,
   "metadata": {},
   "outputs": [
    {
     "data": {
      "text/plain": [
       "array([-0.02, -0.02, -0.02])"
      ]
     },
     "execution_count": 4,
     "metadata": {},
     "output_type": "execute_result"
    }
   ],
   "source": [
    "Icosahedron().hypothesis_vertices.min(axis=0)"
   ]
  },
  {
   "cell_type": "code",
   "execution_count": 5,
   "metadata": {},
   "outputs": [
    {
     "data": {
      "text/plain": [
       "0.020000000000000004"
      ]
     },
     "execution_count": 5,
     "metadata": {},
     "output_type": "execute_result"
    }
   ],
   "source": [
    "Icosahedron().hypothesis_vertices.max()"
   ]
  },
  {
   "cell_type": "code",
   "execution_count": null,
   "metadata": {},
   "outputs": [],
   "source": []
  }
 ],
 "metadata": {
  "kernelspec": {
   "display_name": "p2mpptorch",
   "language": "python",
   "name": "python3"
  },
  "language_info": {
   "codemirror_mode": {
    "name": "ipython",
    "version": 3
   },
   "file_extension": ".py",
   "mimetype": "text/x-python",
   "name": "python",
   "nbconvert_exporter": "python",
   "pygments_lexer": "ipython3",
   "version": "3.9.18"
  }
 },
 "nbformat": 4,
 "nbformat_minor": 2
}
