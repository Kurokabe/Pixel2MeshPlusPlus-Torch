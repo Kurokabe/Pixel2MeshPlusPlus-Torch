{
 "cells": [
  {
   "cell_type": "code",
   "execution_count": 1,
   "metadata": {},
   "outputs": [],
   "source": [
    "from azure.ai.ml import MLClient\n",
    "from azure.identity import DefaultAzureCredential, InteractiveBrowserCredential\n",
    "from azureml.core import Dataset\n",
    "from azureml.fsspec import AzureMachineLearningFileSystem"
   ]
  },
  {
   "cell_type": "code",
   "execution_count": 3,
   "metadata": {},
   "outputs": [
    {
     "name": "stderr",
     "output_type": "stream",
     "text": [
      "Found the config file in: /mnt/batch/tasks/shared/LS_root/mounts/clusters/omene-a100vm/code/Users/farid.abdalla/.azureml/config.json\n"
     ]
    }
   ],
   "source": [
    "ml_client = MLClient.from_config(credential=DefaultAzureCredential())\n",
    "p2mppdata = ml_client.data.get(\"P2MPP\", version=\"1\")"
   ]
  },
  {
   "cell_type": "code",
   "execution_count": 4,
   "metadata": {},
   "outputs": [],
   "source": [
    "fs_p2mppdata = AzureMachineLearningFileSystem(p2mppdata.path)"
   ]
  },
  {
   "cell_type": "code",
   "execution_count": 6,
   "metadata": {},
   "outputs": [],
   "source": [
    "data_root = \"LocalUpload/5ddcd6ec991c932d128cccbb188a52b3/P2MPP/\"\n",
    "dataset_type = \"MedShapeNet\""
   ]
  },
  {
   "cell_type": "code",
   "execution_count": 8,
   "metadata": {},
   "outputs": [],
   "source": [
    "import os\n",
    "img_root = os.path.join(data_root, dataset_type, \"rendering\")\n",
    "img_path = os.path.join(img_root, \"medical_instrument\")"
   ]
  },
  {
   "cell_type": "code",
   "execution_count": 9,
   "metadata": {},
   "outputs": [],
   "source": [
    "image_files = fs_p2mppdata.glob(os.path.join(img_path, \"*.png\"))"
   ]
  },
  {
   "cell_type": "code",
   "execution_count": 10,
   "metadata": {},
   "outputs": [
    {
     "data": {
      "text/plain": [
       "['LocalUpload/5ddcd6ec991c932d128cccbb188a52b3/P2MPP/MedShapeNet/rendering/medical_instrument/000.png',\n",
       " 'LocalUpload/5ddcd6ec991c932d128cccbb188a52b3/P2MPP/MedShapeNet/rendering/medical_instrument/001.png',\n",
       " 'LocalUpload/5ddcd6ec991c932d128cccbb188a52b3/P2MPP/MedShapeNet/rendering/medical_instrument/002.png',\n",
       " 'LocalUpload/5ddcd6ec991c932d128cccbb188a52b3/P2MPP/MedShapeNet/rendering/medical_instrument/003.png',\n",
       " 'LocalUpload/5ddcd6ec991c932d128cccbb188a52b3/P2MPP/MedShapeNet/rendering/medical_instrument/004.png',\n",
       " 'LocalUpload/5ddcd6ec991c932d128cccbb188a52b3/P2MPP/MedShapeNet/rendering/medical_instrument/005.png',\n",
       " 'LocalUpload/5ddcd6ec991c932d128cccbb188a52b3/P2MPP/MedShapeNet/rendering/medical_instrument/006.png',\n",
       " 'LocalUpload/5ddcd6ec991c932d128cccbb188a52b3/P2MPP/MedShapeNet/rendering/medical_instrument/007.png',\n",
       " 'LocalUpload/5ddcd6ec991c932d128cccbb188a52b3/P2MPP/MedShapeNet/rendering/medical_instrument/008.png',\n",
       " 'LocalUpload/5ddcd6ec991c932d128cccbb188a52b3/P2MPP/MedShapeNet/rendering/medical_instrument/009.png',\n",
       " 'LocalUpload/5ddcd6ec991c932d128cccbb188a52b3/P2MPP/MedShapeNet/rendering/medical_instrument/010.png',\n",
       " 'LocalUpload/5ddcd6ec991c932d128cccbb188a52b3/P2MPP/MedShapeNet/rendering/medical_instrument/011.png',\n",
       " 'LocalUpload/5ddcd6ec991c932d128cccbb188a52b3/P2MPP/MedShapeNet/rendering/medical_instrument/012.png',\n",
       " 'LocalUpload/5ddcd6ec991c932d128cccbb188a52b3/P2MPP/MedShapeNet/rendering/medical_instrument/013.png',\n",
       " 'LocalUpload/5ddcd6ec991c932d128cccbb188a52b3/P2MPP/MedShapeNet/rendering/medical_instrument/014.png',\n",
       " 'LocalUpload/5ddcd6ec991c932d128cccbb188a52b3/P2MPP/MedShapeNet/rendering/medical_instrument/015.png',\n",
       " 'LocalUpload/5ddcd6ec991c932d128cccbb188a52b3/P2MPP/MedShapeNet/rendering/medical_instrument/016.png',\n",
       " 'LocalUpload/5ddcd6ec991c932d128cccbb188a52b3/P2MPP/MedShapeNet/rendering/medical_instrument/017.png',\n",
       " 'LocalUpload/5ddcd6ec991c932d128cccbb188a52b3/P2MPP/MedShapeNet/rendering/medical_instrument/018.png',\n",
       " 'LocalUpload/5ddcd6ec991c932d128cccbb188a52b3/P2MPP/MedShapeNet/rendering/medical_instrument/019.png',\n",
       " 'LocalUpload/5ddcd6ec991c932d128cccbb188a52b3/P2MPP/MedShapeNet/rendering/medical_instrument/020.png',\n",
       " 'LocalUpload/5ddcd6ec991c932d128cccbb188a52b3/P2MPP/MedShapeNet/rendering/medical_instrument/021.png',\n",
       " 'LocalUpload/5ddcd6ec991c932d128cccbb188a52b3/P2MPP/MedShapeNet/rendering/medical_instrument/022.png',\n",
       " 'LocalUpload/5ddcd6ec991c932d128cccbb188a52b3/P2MPP/MedShapeNet/rendering/medical_instrument/023.png']"
      ]
     },
     "execution_count": 10,
     "metadata": {},
     "output_type": "execute_result"
    }
   ],
   "source": [
    "image_files"
   ]
  },
  {
   "cell_type": "code",
   "execution_count": 11,
   "metadata": {},
   "outputs": [],
   "source": [
    "from p2mpp.data.p2mpp_dataset_azure import P2MPPDataset"
   ]
  },
  {
   "cell_type": "code",
   "execution_count": 12,
   "metadata": {},
   "outputs": [],
   "source": [
    "import pandas as pd\n",
    "file_list_df = pd.read_csv(\"../data/dataset.csv\")"
   ]
  },
  {
   "cell_type": "code",
   "execution_count": 13,
   "metadata": {},
   "outputs": [
    {
     "name": "stderr",
     "output_type": "stream",
     "text": [
      "Found the config file in: /mnt/batch/tasks/shared/LS_root/mounts/clusters/omene-a100vm/code/Users/farid.abdalla/.azureml/config.json\n"
     ]
    }
   ],
   "source": [
    "dataset = P2MPPDataset(file_list_df, data_root)"
   ]
  },
  {
   "cell_type": "code",
   "execution_count": 16,
   "metadata": {},
   "outputs": [
    {
     "data": {
      "text/plain": [
       "array([[278.8452    ,   2.9722247 ,   0.        ,   0.9333458 ,\n",
       "         35.        ],\n",
       "       [131.64125   ,  17.607298  ,   0.        ,   0.8061996 ,\n",
       "         35.        ],\n",
       "       [  7.1879044 ,   3.1687384 ,   0.        ,   0.90325373,\n",
       "         35.        ]], dtype=float32)"
      ]
     },
     "execution_count": 16,
     "metadata": {},
     "output_type": "execute_result"
    }
   ],
   "source": [
    "dataset[0][\"poses\"]"
   ]
  },
  {
   "cell_type": "code",
   "execution_count": null,
   "metadata": {},
   "outputs": [],
   "source": []
  }
 ],
 "metadata": {
  "kernelspec": {
   "display_name": "p2mpptorch",
   "language": "python",
   "name": "python3"
  },
  "language_info": {
   "codemirror_mode": {
    "name": "ipython",
    "version": 3
   },
   "file_extension": ".py",
   "mimetype": "text/x-python",
   "name": "python",
   "nbconvert_exporter": "python",
   "pygments_lexer": "ipython3",
   "version": "3.9.18"
  }
 },
 "nbformat": 4,
 "nbformat_minor": 2
}
