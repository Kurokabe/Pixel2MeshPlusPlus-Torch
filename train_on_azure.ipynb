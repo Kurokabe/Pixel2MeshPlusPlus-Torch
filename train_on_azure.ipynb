{
 "cells": [
  {
   "cell_type": "code",
   "execution_count": 14,
   "metadata": {},
   "outputs": [],
   "source": [
    "from azureml.core import Workspace, Environment, Experiment, ScriptRunConfig, ComputeTarget\n",
    "from azureml.core.runconfig import DockerConfiguration"
   ]
  },
  {
   "cell_type": "code",
   "execution_count": 4,
   "metadata": {},
   "outputs": [
    {
     "name": "stderr",
     "output_type": "stream",
     "text": [
      "Warning: Falling back to use azure cli login credentials.\n",
      "If you run your code in unattended mode, i.e., where you can't give a user input, then we recommend to use ServicePrincipalAuthentication or MsiAuthentication.\n",
      "Please refer to aka.ms/aml-notebook-auth for different authentication mechanisms in azureml-sdk.\n"
     ]
    }
   ],
   "source": [
    "ws = Workspace.from_config()"
   ]
  },
  {
   "cell_type": "code",
   "execution_count": 7,
   "metadata": {},
   "outputs": [],
   "source": [
    "exp = Experiment(ws, 'test_running_p2mpp_pytorch')"
   ]
  },
  {
   "cell_type": "code",
   "execution_count": 11,
   "metadata": {},
   "outputs": [],
   "source": [
    "target = ComputeTarget(ws, \"OMENE-A100VM\")"
   ]
  },
  {
   "cell_type": "code",
   "execution_count": 30,
   "metadata": {},
   "outputs": [],
   "source": [
    "docker_config = DockerConfiguration(use_docker=True)\n",
    "\n",
    "myenv = Environment.from_pip_requirements(\"p2mpp_pytorch_env\", \"./requirements.txt\")\n",
    "myenv.docker.base_image = None\n",
    "myenv.docker.base_dockerfile = \"./Dockerfile\"\n",
    "myenv.python.user_managed_dependencies = True"
   ]
  },
  {
   "cell_type": "code",
   "execution_count": 31,
   "metadata": {},
   "outputs": [
    {
     "data": {
      "text/plain": [
       "{\n",
       "    \"assetId\": \"azureml://locations/southcentralus/workspaces/839c777b-7627-4c33-9a14-9516a8ae2a93/environments/p2mpp_pytorch_env/versions/2\",\n",
       "    \"databricks\": {\n",
       "        \"eggLibraries\": [],\n",
       "        \"jarLibraries\": [],\n",
       "        \"mavenLibraries\": [],\n",
       "        \"pypiLibraries\": [],\n",
       "        \"rcranLibraries\": []\n",
       "    },\n",
       "    \"docker\": {\n",
       "        \"arguments\": [],\n",
       "        \"baseDockerfile\": \"FROM mcr.microsoft.com/aifx/acpt/stable-ubuntu2004-cu117-py38-torch201:biweekly.202310.3\\n\\nRUN rm -rf /usr/lib/x86_64-linux-gnu/libnvidia-ml.so.1 /usr/lib/x86_64-linux-gnu/libcuda.so.1 /usr/lib/x86_64-linux-gnu/libcudadebugger.so.1\\n\\n\\n# Install pip dependencies\\nCOPY requirements.txt .\\nRUN pip install -r requirements.txt --no-cache-dir\\n\\nCOPY external/chamfer ./external/chamfer\\nCOPY external/neural_renderer ./external/neural_renderer\\n\\nRUN cd external/chamfer && python setup.py install\\nRUN cd external/neural_renderer && python setup.py install\\n\\n# Inference requirements\\nCOPY --from=mcr.microsoft.com/azureml/o16n-base/python-assets:20230419.v1 /artifacts /var/\\nRUN /var/requirements/install_system_requirements.sh && \\\\\\n    cp /var/configuration/rsyslog.conf /etc/rsyslog.conf && \\\\\\n    cp /var/configuration/nginx.conf /etc/nginx/sites-available/app && \\\\\\n    ln -sf /etc/nginx/sites-available/app /etc/nginx/sites-enabled/app && \\\\\\n    rm -f /etc/nginx/sites-enabled/default\\nENV SVDIR=/var/runit\\nENV WORKER_TIMEOUT=400\\nEXPOSE 5001 8883 8888\\n\\n# support Deepspeed launcher requirement of passwordless ssh login\\nRUN apt-get update\\nRUN apt-get install -y openssh-server openssh-client\\n\",\n",
       "        \"baseImage\": null,\n",
       "        \"baseImageRegistry\": {\n",
       "            \"address\": null,\n",
       "            \"password\": null,\n",
       "            \"registryIdentity\": null,\n",
       "            \"username\": null\n",
       "        },\n",
       "        \"buildContext\": null,\n",
       "        \"enabled\": false,\n",
       "        \"platform\": {\n",
       "            \"architecture\": \"amd64\",\n",
       "            \"os\": \"Linux\"\n",
       "        },\n",
       "        \"sharedVolumes\": true,\n",
       "        \"shmSize\": null\n",
       "    },\n",
       "    \"environmentVariables\": {\n",
       "        \"EXAMPLE_ENV_VAR\": \"EXAMPLE_VALUE\"\n",
       "    },\n",
       "    \"inferencingStackVersion\": null,\n",
       "    \"name\": \"p2mpp_pytorch_env\",\n",
       "    \"python\": {\n",
       "        \"baseCondaEnvironment\": null,\n",
       "        \"condaDependencies\": {\n",
       "            \"channels\": [\n",
       "                \"anaconda\",\n",
       "                \"conda-forge\"\n",
       "            ],\n",
       "            \"dependencies\": [\n",
       "                \"python=3.8.13\",\n",
       "                {\n",
       "                    \"pip\": [\n",
       "                        \"pytorch_lightning\",\n",
       "                        \"scipy\",\n",
       "                        \"jsonargparse[signatures]\",\n",
       "                        \"tensorboard\"\n",
       "                    ]\n",
       "                },\n",
       "                \"pip\"\n",
       "            ],\n",
       "            \"name\": \"project_environment\"\n",
       "        },\n",
       "        \"condaDependenciesFile\": null,\n",
       "        \"interpreterPath\": \"python\",\n",
       "        \"userManagedDependencies\": true\n",
       "    },\n",
       "    \"r\": null,\n",
       "    \"spark\": {\n",
       "        \"packages\": [],\n",
       "        \"precachePackages\": true,\n",
       "        \"repositories\": []\n",
       "    },\n",
       "    \"version\": \"2\"\n",
       "}"
      ]
     },
     "execution_count": 31,
     "metadata": {},
     "output_type": "execute_result"
    }
   ],
   "source": [
    "myenv.register(workspace=ws)"
   ]
  },
  {
   "cell_type": "code",
   "execution_count": 32,
   "metadata": {},
   "outputs": [
    {
     "name": "stderr",
     "output_type": "stream",
     "text": [
      "Building a non-registered environment is not supported. Registering environment.\n"
     ]
    },
    {
     "data": {
      "text/plain": [
       "<azureml.core.environment.ImageBuildDetails at 0x1aa8ebcba60>"
      ]
     },
     "execution_count": 32,
     "metadata": {},
     "output_type": "execute_result"
    }
   ],
   "source": [
    "myenv.build(ws)"
   ]
  },
  {
   "cell_type": "code",
   "execution_count": null,
   "metadata": {},
   "outputs": [],
   "source": [
    "config = ScriptRunConfig(\n",
    "    source_directory='.',\n",
    "    script='train_mvp2m.py',\n",
    "    compute_target=target,\n",
    "    environment=myenv,\n",
    "    arguments = [\n",
    "        'fit', \"--config\", \"configs/default.yaml\"\n",
    "    ],\n",
    "    docker_runtime_config=docker_config\n",
    ")\n"
   ]
  }
 ],
 "metadata": {
  "kernelspec": {
   "display_name": "p2mpptorch",
   "language": "python",
   "name": "python3"
  },
  "language_info": {
   "codemirror_mode": {
    "name": "ipython",
    "version": 3
   },
   "file_extension": ".py",
   "mimetype": "text/x-python",
   "name": "python",
   "nbconvert_exporter": "python",
   "pygments_lexer": "ipython3",
   "version": "3.9.18"
  }
 },
 "nbformat": 4,
 "nbformat_minor": 2
}
